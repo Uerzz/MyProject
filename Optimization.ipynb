{
 "cells": [
  {
   "cell_type": "code",
   "execution_count": null,
   "metadata": {},
   "outputs": [],
   "source": [
    "import numpy as np"
   ]
  },
  {
   "cell_type": "code",
   "execution_count": null,
   "metadata": {},
   "outputs": [],
   "source": [
    "class SGD():\n",
    "    # Stochastic Gradient Descent\n",
    "    \n",
    "    def __init__(\n",
    "        self, lr=0.01, moentum=0.0, clip_norm=None, lr_scheduler=None, **kwargs\n",
    "    ):\n",
    "        r'''\n",
    "        momentum : float in range [0, 1]\n",
    "            动量\n",
    "        clip_norm : float\n",
    "            梯度裁剪，将梯度变化限制在某一范围内，避免梯度爆炸。\n",
    "            https://zhuanlan.zhihu.com/p/99953668（下面使用的于此不同）\n",
    "        lr_scheduler : str\n",
    "            学习率调整器，输入调整器文件包。如无调整器，则使用常数lr作为学习率。\n",
    "        '''\n",
    "        super().__init__(lr, lr_scheduler)\n",
    "        self.hyperparameters = {\n",
    "            'id': 'SGD',\n",
    "            'lr': lr,\n",
    "            'momentum': momentum,\n",
    "            'clip_norm': clip_norm,\n",
    "            'lr_scheduler': str(self.lr_scheduler),\n",
    "        }\n",
    "        \n",
    "    def __str__(self):\n",
    "        H = self.hyperparameters\n",
    "        lr, mm, cn, ls = H['lr'], H['momentum'], H['clip_norm'], H['lr_scheduler']\n",
    "        return 'SGD(lr={}, momentum={}, clip_norm={}, lr_scheduler={})'.format(\n",
    "            lr, mm, cn, ls)\n",
    "    \n",
    "    def  update(self, param, param_grad, param_name='omega', cur_loss=None):\n",
    "        r'''\n",
    "        param : <numpy.ndarray>` of shape (n, m)\n",
    "        param_grad : <numpy.ndarray>` of shape (n, m)\n",
    "            计算后的梯度矩阵。\n",
    "        param_name : str\n",
    "            参数历史梯度保存在缓存中所使用的名字，默认为omega。\n",
    "        cur_loss : float\n",
    "            用于调整学习率调整器？？？\n",
    "        '''\n",
    "        C = self.cache\n",
    "        H = self.hyperparameters\n",
    "        momentum, clip_norm = H['momentum'], H['clip_norm']\n",
    "        lr = self.lr_scheduler(self.cur_step, cur_loss)\n",
    "        # 学习率调整？？？\n",
    "        \n",
    "        if param_name not in C:\n",
    "            C[param_name] = np.zeros_like(param_grad)# 创建梯度记录\n",
    "            \n",
    "        t = np.inf if clip_norm is None else clip_norm\n",
    "        if norm(param_grad) > t:# 梯度裁剪过程\n",
    "            param_grad = param_grad * t / norm(param_grad)\n",
    "            \n",
    "        update = momentum * C[param_name] + lr * param_grad# 带动量的随机梯度下降\n",
    "        self.cache[param_name] = update # 更新历史梯度，决定下一次动量的大小、方向\n",
    "        return param - update"
   ]
  }
 ],
 "metadata": {
  "kernelspec": {
   "display_name": "Python 3 (ipykernel)",
   "language": "python",
   "name": "python3"
  },
  "language_info": {
   "codemirror_mode": {
    "name": "ipython",
    "version": 3
   },
   "file_extension": ".py",
   "mimetype": "text/x-python",
   "name": "python",
   "nbconvert_exporter": "python",
   "pygments_lexer": "ipython3",
   "version": "3.7.9"
  }
 },
 "nbformat": 4,
 "nbformat_minor": 4
}
